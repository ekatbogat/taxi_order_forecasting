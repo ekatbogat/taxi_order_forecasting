{
 "cells": [
  {
   "cell_type": "markdown",
   "metadata": {},
   "source": [
    "#  Прогнозирование заказов такси"
   ]
  },
  {
   "cell_type": "markdown",
   "metadata": {},
   "source": [
    "Компания собрала исторические данные о заказах такси в аэропортах. Чтобы привлекать больше водителей в период пиковой нагрузки, нужно спрогнозировать количество заказов такси на следующий час. Необходимо построить модель для такого предсказания."
   ]
  },
  {
   "cell_type": "markdown",
   "metadata": {},
   "source": [
    "## Подготовка"
   ]
  },
  {
   "cell_type": "code",
   "execution_count": 1,
   "metadata": {},
   "outputs": [],
   "source": [
    "import numpy as np\n",
    "import pandas as pd\n",
    "%matplotlib inline\n",
    "import matplotlib.pyplot as plt \n",
    "import seaborn as sns\n",
    "import warnings\n",
    "\n",
    "from sklearn.model_selection import train_test_split\n",
    "from statsmodels.tsa.seasonal import seasonal_decompose\n",
    "from sklearn.linear_model import LinearRegression \n",
    "from sklearn.ensemble import RandomForestRegressor \n",
    "from lightgbm import LGBMRegressor\n",
    "import catboost as cb\n",
    "from sklearn.model_selection import GridSearchCV\n",
    "\n",
    "from sklearn.model_selection import cross_val_score, GridSearchCV , train_test_split, TimeSeriesSplit \n",
    "from sklearn.metrics import make_scorer, mean_squared_error \n",
    "warnings.filterwarnings('ignore')"
   ]
  },
  {
   "cell_type": "code",
   "execution_count": 2,
   "metadata": {},
   "outputs": [],
   "source": [
    "df = pd.read_csv('/datasets/taxi.csv',index_col=[0], parse_dates=[0]) "
   ]
  },
  {
   "cell_type": "code",
   "execution_count": 3,
   "metadata": {
    "scrolled": false
   },
   "outputs": [
    {
     "data": {
      "text/plain": [
       "True"
      ]
     },
     "metadata": {},
     "output_type": "display_data"
    },
    {
     "data": {
      "text/html": [
       "<div>\n",
       "<style scoped>\n",
       "    .dataframe tbody tr th:only-of-type {\n",
       "        vertical-align: middle;\n",
       "    }\n",
       "\n",
       "    .dataframe tbody tr th {\n",
       "        vertical-align: top;\n",
       "    }\n",
       "\n",
       "    .dataframe thead th {\n",
       "        text-align: right;\n",
       "    }\n",
       "</style>\n",
       "<table border=\"1\" class=\"dataframe\">\n",
       "  <thead>\n",
       "    <tr style=\"text-align: right;\">\n",
       "      <th></th>\n",
       "      <th>num_orders</th>\n",
       "    </tr>\n",
       "    <tr>\n",
       "      <th>datetime</th>\n",
       "      <th></th>\n",
       "    </tr>\n",
       "  </thead>\n",
       "  <tbody>\n",
       "    <tr>\n",
       "      <th>2018-03-01 00:00:00</th>\n",
       "      <td>9</td>\n",
       "    </tr>\n",
       "    <tr>\n",
       "      <th>2018-03-01 00:10:00</th>\n",
       "      <td>14</td>\n",
       "    </tr>\n",
       "    <tr>\n",
       "      <th>2018-03-01 00:20:00</th>\n",
       "      <td>28</td>\n",
       "    </tr>\n",
       "    <tr>\n",
       "      <th>2018-03-01 00:30:00</th>\n",
       "      <td>20</td>\n",
       "    </tr>\n",
       "    <tr>\n",
       "      <th>2018-03-01 00:40:00</th>\n",
       "      <td>32</td>\n",
       "    </tr>\n",
       "    <tr>\n",
       "      <th>2018-03-01 00:50:00</th>\n",
       "      <td>21</td>\n",
       "    </tr>\n",
       "    <tr>\n",
       "      <th>2018-03-01 01:00:00</th>\n",
       "      <td>7</td>\n",
       "    </tr>\n",
       "    <tr>\n",
       "      <th>2018-03-01 01:10:00</th>\n",
       "      <td>5</td>\n",
       "    </tr>\n",
       "    <tr>\n",
       "      <th>2018-03-01 01:20:00</th>\n",
       "      <td>17</td>\n",
       "    </tr>\n",
       "    <tr>\n",
       "      <th>2018-03-01 01:30:00</th>\n",
       "      <td>12</td>\n",
       "    </tr>\n",
       "  </tbody>\n",
       "</table>\n",
       "</div>"
      ],
      "text/plain": [
       "                     num_orders\n",
       "datetime                       \n",
       "2018-03-01 00:00:00           9\n",
       "2018-03-01 00:10:00          14\n",
       "2018-03-01 00:20:00          28\n",
       "2018-03-01 00:30:00          20\n",
       "2018-03-01 00:40:00          32\n",
       "2018-03-01 00:50:00          21\n",
       "2018-03-01 01:00:00           7\n",
       "2018-03-01 01:10:00           5\n",
       "2018-03-01 01:20:00          17\n",
       "2018-03-01 01:30:00          12"
      ]
     },
     "metadata": {},
     "output_type": "display_data"
    },
    {
     "name": "stdout",
     "output_type": "stream",
     "text": [
      "<class 'pandas.core.frame.DataFrame'>\n",
      "DatetimeIndex: 26496 entries, 2018-03-01 00:00:00 to 2018-08-31 23:50:00\n",
      "Data columns (total 1 columns):\n",
      " #   Column      Non-Null Count  Dtype\n",
      "---  ------      --------------  -----\n",
      " 0   num_orders  26496 non-null  int64\n",
      "dtypes: int64(1)\n",
      "memory usage: 414.0 KB\n"
     ]
    }
   ],
   "source": [
    "# Проверим в хронологичном ли порядке расположены даты и посмотрим информацию о данных:\n",
    "display(df.index.is_monotonic)\n",
    "display(df.head(10))\n",
    "df.info()"
   ]
  },
  {
   "cell_type": "code",
   "execution_count": 4,
   "metadata": {},
   "outputs": [
    {
     "data": {
      "image/png": "[encoded data removed]",
      "text/plain": [
       "<Figure size 432x288 with 1 Axes>"
      ]
     },
     "metadata": {
      "needs_background": "light"
     },
     "output_type": "display_data"
    }
   ],
   "source": [
    "#Сделаем ресемплирование с суммой заказов на каждый час по часам и посмотрим график:\n",
    "df = df.resample('1H').sum() \n",
    "df.plot()\n",
    "plt.title('График с сумой заказов на каждый час')\n",
    "plt.xlabel('Час')\n",
    "plt.ylabel('Сумма заказов')\n",
    "plt.show()"
   ]
  },
  {
   "cell_type": "code",
   "execution_count": 5,
   "metadata": {},
   "outputs": [
    {
     "data": {
      "text/html": [
       "<div>\n",
       "<style scoped>\n",
       "    .dataframe tbody tr th:only-of-type {\n",
       "        vertical-align: middle;\n",
       "    }\n",
       "\n",
       "    .dataframe tbody tr th {\n",
       "        vertical-align: top;\n",
       "    }\n",
       "\n",
       "    .dataframe thead th {\n",
       "        text-align: right;\n",
       "    }\n",
       "</style>\n",
       "<table border=\"1\" class=\"dataframe\">\n",
       "  <thead>\n",
       "    <tr style=\"text-align: right;\">\n",
       "      <th></th>\n",
       "      <th>num_orders</th>\n",
       "    </tr>\n",
       "  </thead>\n",
       "  <tbody>\n",
       "    <tr>\n",
       "      <th>count</th>\n",
       "      <td>4416.000000</td>\n",
       "    </tr>\n",
       "    <tr>\n",
       "      <th>mean</th>\n",
       "      <td>84.422781</td>\n",
       "    </tr>\n",
       "    <tr>\n",
       "      <th>std</th>\n",
       "      <td>45.023853</td>\n",
       "    </tr>\n",
       "    <tr>\n",
       "      <th>min</th>\n",
       "      <td>0.000000</td>\n",
       "    </tr>\n",
       "    <tr>\n",
       "      <th>25%</th>\n",
       "      <td>54.000000</td>\n",
       "    </tr>\n",
       "    <tr>\n",
       "      <th>50%</th>\n",
       "      <td>78.000000</td>\n",
       "    </tr>\n",
       "    <tr>\n",
       "      <th>75%</th>\n",
       "      <td>107.000000</td>\n",
       "    </tr>\n",
       "    <tr>\n",
       "      <th>max</th>\n",
       "      <td>462.000000</td>\n",
       "    </tr>\n",
       "  </tbody>\n",
       "</table>\n",
       "</div>"
      ],
      "text/plain": [
       "        num_orders\n",
       "count  4416.000000\n",
       "mean     84.422781\n",
       "std      45.023853\n",
       "min       0.000000\n",
       "25%      54.000000\n",
       "50%      78.000000\n",
       "75%     107.000000\n",
       "max     462.000000"
      ]
     },
     "execution_count": 5,
     "metadata": {},
     "output_type": "execute_result"
    }
   ],
   "source": [
    "df.describe()"
   ]
  },
  {
   "cell_type": "markdown",
   "metadata": {},
   "source": [
    "**ВЫВОД**\n",
    "* В наборе данных 26496 наблюдений и 2 столбца\n",
    "Признаки:\n",
    "* datetime — отсечка временного периода, состоит из даты и времени\n",
    "* num_orders — количество заказов\n",
    "\n",
    "* Даны заказы такси с 2018-03-01 00:00:00 по 2018-08-31 23:50:00\n",
    "* пропусков нет\n",
    "* стандартное отклонение 45\n",
    "* данные ресемплированы по 1 часу, по условию задачи, расположены в хронологическом порядке"
   ]
  },
  {
   "cell_type": "markdown",
   "metadata": {},
   "source": [
    "## Анализ"
   ]
  },
  {
   "cell_type": "markdown",
   "metadata": {},
   "source": [
    "Посмотрим на скользящую среднюю с шириной окна 100:"
   ]
  },
  {
   "cell_type": "code",
   "execution_count": 6,
   "metadata": {},
   "outputs": [
    {
     "data": {
      "text/plain": [
       "<AxesSubplot:xlabel='datetime'>"
      ]
     },
     "execution_count": 6,
     "metadata": {},
     "output_type": "execute_result"
    },
    {
     "data": {
      "image/png": "[encoded data removed]",
      "text/plain": [
       "<Figure size 432x288 with 1 Axes>"
      ]
     },
     "metadata": {
      "needs_background": "light"
     },
     "output_type": "display_data"
    }
   ],
   "source": [
    "df.rolling(100).mean().plot()"
   ]
  },
  {
   "cell_type": "markdown",
   "metadata": {},
   "source": [
    "Данные имеют большие колебания, но с помощью средней скользящей мы уже видим восхдящий тренд сползающий вверх."
   ]
  },
  {
   "cell_type": "code",
   "execution_count": 7,
   "metadata": {
    "scrolled": false
   },
   "outputs": [
    {
     "data": {
      "image/png": "[encoded data removed]",
      "text/plain": [
       "<Figure size 576x576 with 3 Axes>"
      ]
     },
     "metadata": {
      "needs_background": "light"
     },
     "output_type": "display_data"
    }
   ],
   "source": [
    "# Разложим временной ряд на тренд и сезоную составляющие\n",
    "decomposed = seasonal_decompose(df)\n",
    "\n",
    "plt.figure(figsize=(8, 8)) \n",
    "plt.subplot(311)\n",
    "decomposed.trend.plot(ax=plt.gca())\n",
    "plt.title('Тренд')\n",
    "plt.subplot(312)\n",
    "decomposed.seasonal['2018-03-01':'2018-03-05'].plot(ax=plt.gca())\n",
    "plt.title('Сезонная состаляющая')\n",
    "plt.subplot(313)\n",
    "decomposed.resid.plot(ax=plt.gca())\n",
    "plt.title('Остаток')\n",
    "plt.tight_layout()"
   ]
  },
  {
   "cell_type": "markdown",
   "metadata": {},
   "source": [
    "Графики показывают высокую частотность и суточную сезонность, уменьшим интервал и посмотрим за неделю:"
   ]
  },
  {
   "cell_type": "code",
   "execution_count": 8,
   "metadata": {},
   "outputs": [
    {
     "data": {
      "image/png": "[encoded data removed]",
      "text/plain": [
       "<Figure size 864x1440 with 3 Axes>"
      ]
     },
     "metadata": {
      "needs_background": "light"
     },
     "output_type": "display_data"
    }
   ],
   "source": [
    "decomposed = seasonal_decompose(df['2018-06-01':'2018-06-07'])\n",
    "\n",
    "plt.figure(figsize=(12, 20))\n",
    "\n",
    "plt.subplot(311)\n",
    "decomposed.trend.plot(ax=plt.gca())\n",
    "plt.title('Тренд')\n",
    "\n",
    "plt.subplot(312)\n",
    "decomposed.seasonal.plot(ax=plt.gca())\n",
    "plt.title('Сезонная состаляющая')\n",
    "\n",
    "plt.subplot(313)\n",
    "decomposed.resid.plot(ax=plt.gca())\n",
    "plt.title('Остаток')\n",
    "plt.tight_layout()"
   ]
  },
  {
   "cell_type": "markdown",
   "metadata": {},
   "source": [
    "Теперь явно видна суточная сезонность. Ночью количество заказов стремится к нулю, в то время как вечерний час пик - момент самого сильного спроса на услуги такси."
   ]
  },
  {
   "cell_type": "markdown",
   "metadata": {},
   "source": [
    "Рассмотрим сезонность подробней. В течении дня."
   ]
  },
  {
   "cell_type": "code",
   "execution_count": 9,
   "metadata": {
    "scrolled": false
   },
   "outputs": [
    {
     "data": {
      "image/png": "[encoded data removed]",
      "text/plain": [
       "<Figure size 864x1440 with 3 Axes>"
      ]
     },
     "metadata": {
      "needs_background": "light"
     },
     "output_type": "display_data"
    }
   ],
   "source": [
    "decomposed = seasonal_decompose(df['2018-06-01':'2018-06-02'])\n",
    "\n",
    "plt.figure(figsize=(12, 20))\n",
    "\n",
    "plt.subplot(311)\n",
    "decomposed.trend.plot(ax=plt.gca())\n",
    "plt.title('Тренд')\n",
    "\n",
    "plt.subplot(312)\n",
    "decomposed.seasonal.plot(ax=plt.gca())\n",
    "plt.title('Сезонная состаляющая')\n",
    "\n",
    "plt.subplot(313)\n",
    "decomposed.resid.plot(ax=plt.gca())\n",
    "plt.title('Остаток')\n",
    "plt.tight_layout()"
   ]
  },
  {
   "cell_type": "markdown",
   "metadata": {},
   "source": [
    "Наблюдается явная суточная сезонность. Как видно из графика, реже заказывают такси в 6 утра и пик заказов приходится на полночь. Возможно это связано с работой общественного транспорта."
   ]
  },
  {
   "cell_type": "markdown",
   "metadata": {},
   "source": [
    "Создам функцию make_features которая:\n",
    "* Добавляет фактор месяца и фактор дня исходя из общего тренда\n",
    "* Добавляет фактор дня недели, так как на графике недели видим большую вариацию добавляет фактор часа, так как прослеживаем пики активности в течении суток Добавляет lag\n"
   ]
  },
  {
   "cell_type": "code",
   "execution_count": 10,
   "metadata": {},
   "outputs": [],
   "source": [
    "data = df.copy(deep=True)"
   ]
  },
  {
   "cell_type": "code",
   "execution_count": 11,
   "metadata": {},
   "outputs": [],
   "source": [
    "def make_features(data, max_lag, rolling_mean_size):\n",
    "    \n",
    "    data['month'] = data.index.month\n",
    "    data['day'] = data.index.day\n",
    "    data['hour'] = data.index.hour\n",
    "    data['dayofweek'] = data.index.dayofweek\n",
    "    \n",
    "\n",
    "    for lag in range(1, max_lag + 1):\n",
    "        data['lag_{}'.format(lag)] = data['num_orders'].shift(lag)\n",
    "\n",
    "    data['rolling_mean'] = data['num_orders'].shift().rolling(rolling_mean_size).mean()\n",
    "    return data"
   ]
  },
  {
   "cell_type": "markdown",
   "metadata": {},
   "source": [
    "Применим функцию с лагом до 24 часов и 100-м скользящим средним:"
   ]
  },
  {
   "cell_type": "code",
   "execution_count": 12,
   "metadata": {},
   "outputs": [
    {
     "data": {
      "text/plain": [
       "(4416, 30)"
      ]
     },
     "execution_count": 12,
     "metadata": {},
     "output_type": "execute_result"
    }
   ],
   "source": [
    "make_features(data, 24, 100)\n",
    "data.shape"
   ]
  },
  {
   "cell_type": "code",
   "execution_count": 13,
   "metadata": {},
   "outputs": [
    {
     "data": {
      "text/html": [
       "<div>\n",
       "<style scoped>\n",
       "    .dataframe tbody tr th:only-of-type {\n",
       "        vertical-align: middle;\n",
       "    }\n",
       "\n",
       "    .dataframe tbody tr th {\n",
       "        vertical-align: top;\n",
       "    }\n",
       "\n",
       "    .dataframe thead th {\n",
       "        text-align: right;\n",
       "    }\n",
       "</style>\n",
       "<table border=\"1\" class=\"dataframe\">\n",
       "  <thead>\n",
       "    <tr style=\"text-align: right;\">\n",
       "      <th></th>\n",
       "      <th>num_orders</th>\n",
       "      <th>month</th>\n",
       "      <th>day</th>\n",
       "      <th>hour</th>\n",
       "      <th>dayofweek</th>\n",
       "      <th>lag_1</th>\n",
       "      <th>lag_2</th>\n",
       "      <th>lag_3</th>\n",
       "      <th>lag_4</th>\n",
       "      <th>lag_5</th>\n",
       "      <th>...</th>\n",
       "      <th>lag_16</th>\n",
       "      <th>lag_17</th>\n",
       "      <th>lag_18</th>\n",
       "      <th>lag_19</th>\n",
       "      <th>lag_20</th>\n",
       "      <th>lag_21</th>\n",
       "      <th>lag_22</th>\n",
       "      <th>lag_23</th>\n",
       "      <th>lag_24</th>\n",
       "      <th>rolling_mean</th>\n",
       "    </tr>\n",
       "    <tr>\n",
       "      <th>datetime</th>\n",
       "      <th></th>\n",
       "      <th></th>\n",
       "      <th></th>\n",
       "      <th></th>\n",
       "      <th></th>\n",
       "      <th></th>\n",
       "      <th></th>\n",
       "      <th></th>\n",
       "      <th></th>\n",
       "      <th></th>\n",
       "      <th></th>\n",
       "      <th></th>\n",
       "      <th></th>\n",
       "      <th></th>\n",
       "      <th></th>\n",
       "      <th></th>\n",
       "      <th></th>\n",
       "      <th></th>\n",
       "      <th></th>\n",
       "      <th></th>\n",
       "      <th></th>\n",
       "    </tr>\n",
       "  </thead>\n",
       "  <tbody>\n",
       "    <tr>\n",
       "      <th>2018-03-01 00:00:00</th>\n",
       "      <td>124</td>\n",
       "      <td>3</td>\n",
       "      <td>1</td>\n",
       "      <td>0</td>\n",
       "      <td>3</td>\n",
       "      <td>NaN</td>\n",
       "      <td>NaN</td>\n",
       "      <td>NaN</td>\n",
       "      <td>NaN</td>\n",
       "      <td>NaN</td>\n",
       "      <td>...</td>\n",
       "      <td>NaN</td>\n",
       "      <td>NaN</td>\n",
       "      <td>NaN</td>\n",
       "      <td>NaN</td>\n",
       "      <td>NaN</td>\n",
       "      <td>NaN</td>\n",
       "      <td>NaN</td>\n",
       "      <td>NaN</td>\n",
       "      <td>NaN</td>\n",
       "      <td>NaN</td>\n",
       "    </tr>\n",
       "    <tr>\n",
       "      <th>2018-03-01 01:00:00</th>\n",
       "      <td>85</td>\n",
       "      <td>3</td>\n",
       "      <td>1</td>\n",
       "      <td>1</td>\n",
       "      <td>3</td>\n",
       "      <td>124.0</td>\n",
       "      <td>NaN</td>\n",
       "      <td>NaN</td>\n",
       "      <td>NaN</td>\n",
       "      <td>NaN</td>\n",
       "      <td>...</td>\n",
       "      <td>NaN</td>\n",
       "      <td>NaN</td>\n",
       "      <td>NaN</td>\n",
       "      <td>NaN</td>\n",
       "      <td>NaN</td>\n",
       "      <td>NaN</td>\n",
       "      <td>NaN</td>\n",
       "      <td>NaN</td>\n",
       "      <td>NaN</td>\n",
       "      <td>NaN</td>\n",
       "    </tr>\n",
       "    <tr>\n",
       "      <th>2018-03-01 02:00:00</th>\n",
       "      <td>71</td>\n",
       "      <td>3</td>\n",
       "      <td>1</td>\n",
       "      <td>2</td>\n",
       "      <td>3</td>\n",
       "      <td>85.0</td>\n",
       "      <td>124.0</td>\n",
       "      <td>NaN</td>\n",
       "      <td>NaN</td>\n",
       "      <td>NaN</td>\n",
       "      <td>...</td>\n",
       "      <td>NaN</td>\n",
       "      <td>NaN</td>\n",
       "      <td>NaN</td>\n",
       "      <td>NaN</td>\n",
       "      <td>NaN</td>\n",
       "      <td>NaN</td>\n",
       "      <td>NaN</td>\n",
       "      <td>NaN</td>\n",
       "      <td>NaN</td>\n",
       "      <td>NaN</td>\n",
       "    </tr>\n",
       "    <tr>\n",
       "      <th>2018-03-01 03:00:00</th>\n",
       "      <td>66</td>\n",
       "      <td>3</td>\n",
       "      <td>1</td>\n",
       "      <td>3</td>\n",
       "      <td>3</td>\n",
       "      <td>71.0</td>\n",
       "      <td>85.0</td>\n",
       "      <td>124.0</td>\n",
       "      <td>NaN</td>\n",
       "      <td>NaN</td>\n",
       "      <td>...</td>\n",
       "      <td>NaN</td>\n",
       "      <td>NaN</td>\n",
       "      <td>NaN</td>\n",
       "      <td>NaN</td>\n",
       "      <td>NaN</td>\n",
       "      <td>NaN</td>\n",
       "      <td>NaN</td>\n",
       "      <td>NaN</td>\n",
       "      <td>NaN</td>\n",
       "      <td>NaN</td>\n",
       "    </tr>\n",
       "    <tr>\n",
       "      <th>2018-03-01 04:00:00</th>\n",
       "      <td>43</td>\n",
       "      <td>3</td>\n",
       "      <td>1</td>\n",
       "      <td>4</td>\n",
       "      <td>3</td>\n",
       "      <td>66.0</td>\n",
       "      <td>71.0</td>\n",
       "      <td>85.0</td>\n",
       "      <td>124.0</td>\n",
       "      <td>NaN</td>\n",
       "      <td>...</td>\n",
       "      <td>NaN</td>\n",
       "      <td>NaN</td>\n",
       "      <td>NaN</td>\n",
       "      <td>NaN</td>\n",
       "      <td>NaN</td>\n",
       "      <td>NaN</td>\n",
       "      <td>NaN</td>\n",
       "      <td>NaN</td>\n",
       "      <td>NaN</td>\n",
       "      <td>NaN</td>\n",
       "    </tr>\n",
       "  </tbody>\n",
       "</table>\n",
       "<p>5 rows × 30 columns</p>\n",
       "</div>"
      ],
      "text/plain": [
       "                     num_orders  month  day  hour  dayofweek  lag_1  lag_2  \\\n",
       "datetime                                                                     \n",
       "2018-03-01 00:00:00         124      3    1     0          3    NaN    NaN   \n",
       "2018-03-01 01:00:00          85      3    1     1          3  124.0    NaN   \n",
       "2018-03-01 02:00:00          71      3    1     2          3   85.0  124.0   \n",
       "2018-03-01 03:00:00          66      3    1     3          3   71.0   85.0   \n",
       "2018-03-01 04:00:00          43      3    1     4          3   66.0   71.0   \n",
       "\n",
       "                     lag_3  lag_4  lag_5  ...  lag_16  lag_17  lag_18  lag_19  \\\n",
       "datetime                                  ...                                   \n",
       "2018-03-01 00:00:00    NaN    NaN    NaN  ...     NaN     NaN     NaN     NaN   \n",
       "2018-03-01 01:00:00    NaN    NaN    NaN  ...     NaN     NaN     NaN     NaN   \n",
       "2018-03-01 02:00:00    NaN    NaN    NaN  ...     NaN     NaN     NaN     NaN   \n",
       "2018-03-01 03:00:00  124.0    NaN    NaN  ...     NaN     NaN     NaN     NaN   \n",
       "2018-03-01 04:00:00   85.0  124.0    NaN  ...     NaN     NaN     NaN     NaN   \n",
       "\n",
       "                     lag_20  lag_21  lag_22  lag_23  lag_24  rolling_mean  \n",
       "datetime                                                                   \n",
       "2018-03-01 00:00:00     NaN     NaN     NaN     NaN     NaN           NaN  \n",
       "2018-03-01 01:00:00     NaN     NaN     NaN     NaN     NaN           NaN  \n",
       "2018-03-01 02:00:00     NaN     NaN     NaN     NaN     NaN           NaN  \n",
       "2018-03-01 03:00:00     NaN     NaN     NaN     NaN     NaN           NaN  \n",
       "2018-03-01 04:00:00     NaN     NaN     NaN     NaN     NaN           NaN  \n",
       "\n",
       "[5 rows x 30 columns]"
      ]
     },
     "execution_count": 13,
     "metadata": {},
     "output_type": "execute_result"
    }
   ],
   "source": [
    "data.head()"
   ]
  },
  {
   "cell_type": "code",
   "execution_count": 14,
   "metadata": {},
   "outputs": [],
   "source": [
    "data = data.dropna()"
   ]
  },
  {
   "cell_type": "code",
   "execution_count": 15,
   "metadata": {},
   "outputs": [
    {
     "data": {
      "text/plain": [
       "(4316, 30)"
      ]
     },
     "execution_count": 15,
     "metadata": {},
     "output_type": "execute_result"
    }
   ],
   "source": [
    "data.shape"
   ]
  },
  {
   "cell_type": "code",
   "execution_count": 16,
   "metadata": {
    "scrolled": true
   },
   "outputs": [
    {
     "data": {
      "text/html": [
       "<div>\n",
       "<style scoped>\n",
       "    .dataframe tbody tr th:only-of-type {\n",
       "        vertical-align: middle;\n",
       "    }\n",
       "\n",
       "    .dataframe tbody tr th {\n",
       "        vertical-align: top;\n",
       "    }\n",
       "\n",
       "    .dataframe thead th {\n",
       "        text-align: right;\n",
       "    }\n",
       "</style>\n",
       "<table border=\"1\" class=\"dataframe\">\n",
       "  <thead>\n",
       "    <tr style=\"text-align: right;\">\n",
       "      <th></th>\n",
       "      <th>num_orders</th>\n",
       "      <th>month</th>\n",
       "      <th>day</th>\n",
       "      <th>hour</th>\n",
       "      <th>dayofweek</th>\n",
       "      <th>lag_1</th>\n",
       "      <th>lag_2</th>\n",
       "      <th>lag_3</th>\n",
       "      <th>lag_4</th>\n",
       "      <th>lag_5</th>\n",
       "      <th>...</th>\n",
       "      <th>lag_16</th>\n",
       "      <th>lag_17</th>\n",
       "      <th>lag_18</th>\n",
       "      <th>lag_19</th>\n",
       "      <th>lag_20</th>\n",
       "      <th>lag_21</th>\n",
       "      <th>lag_22</th>\n",
       "      <th>lag_23</th>\n",
       "      <th>lag_24</th>\n",
       "      <th>rolling_mean</th>\n",
       "    </tr>\n",
       "    <tr>\n",
       "      <th>datetime</th>\n",
       "      <th></th>\n",
       "      <th></th>\n",
       "      <th></th>\n",
       "      <th></th>\n",
       "      <th></th>\n",
       "      <th></th>\n",
       "      <th></th>\n",
       "      <th></th>\n",
       "      <th></th>\n",
       "      <th></th>\n",
       "      <th></th>\n",
       "      <th></th>\n",
       "      <th></th>\n",
       "      <th></th>\n",
       "      <th></th>\n",
       "      <th></th>\n",
       "      <th></th>\n",
       "      <th></th>\n",
       "      <th></th>\n",
       "      <th></th>\n",
       "      <th></th>\n",
       "    </tr>\n",
       "  </thead>\n",
       "  <tbody>\n",
       "    <tr>\n",
       "      <th>2018-03-05 04:00:00</th>\n",
       "      <td>34</td>\n",
       "      <td>3</td>\n",
       "      <td>5</td>\n",
       "      <td>4</td>\n",
       "      <td>0</td>\n",
       "      <td>51.0</td>\n",
       "      <td>32.0</td>\n",
       "      <td>176.0</td>\n",
       "      <td>86.0</td>\n",
       "      <td>68.0</td>\n",
       "      <td>...</td>\n",
       "      <td>30.0</td>\n",
       "      <td>41.0</td>\n",
       "      <td>19.0</td>\n",
       "      <td>39.0</td>\n",
       "      <td>39.0</td>\n",
       "      <td>12.0</td>\n",
       "      <td>11.0</td>\n",
       "      <td>22.0</td>\n",
       "      <td>27.0</td>\n",
       "      <td>56.46</td>\n",
       "    </tr>\n",
       "    <tr>\n",
       "      <th>2018-03-05 05:00:00</th>\n",
       "      <td>16</td>\n",
       "      <td>3</td>\n",
       "      <td>5</td>\n",
       "      <td>5</td>\n",
       "      <td>0</td>\n",
       "      <td>34.0</td>\n",
       "      <td>51.0</td>\n",
       "      <td>32.0</td>\n",
       "      <td>176.0</td>\n",
       "      <td>86.0</td>\n",
       "      <td>...</td>\n",
       "      <td>30.0</td>\n",
       "      <td>30.0</td>\n",
       "      <td>41.0</td>\n",
       "      <td>19.0</td>\n",
       "      <td>39.0</td>\n",
       "      <td>39.0</td>\n",
       "      <td>12.0</td>\n",
       "      <td>11.0</td>\n",
       "      <td>22.0</td>\n",
       "      <td>55.56</td>\n",
       "    </tr>\n",
       "    <tr>\n",
       "      <th>2018-03-05 06:00:00</th>\n",
       "      <td>3</td>\n",
       "      <td>3</td>\n",
       "      <td>5</td>\n",
       "      <td>6</td>\n",
       "      <td>0</td>\n",
       "      <td>16.0</td>\n",
       "      <td>34.0</td>\n",
       "      <td>51.0</td>\n",
       "      <td>32.0</td>\n",
       "      <td>176.0</td>\n",
       "      <td>...</td>\n",
       "      <td>56.0</td>\n",
       "      <td>30.0</td>\n",
       "      <td>30.0</td>\n",
       "      <td>41.0</td>\n",
       "      <td>19.0</td>\n",
       "      <td>39.0</td>\n",
       "      <td>39.0</td>\n",
       "      <td>12.0</td>\n",
       "      <td>11.0</td>\n",
       "      <td>54.87</td>\n",
       "    </tr>\n",
       "    <tr>\n",
       "      <th>2018-03-05 07:00:00</th>\n",
       "      <td>14</td>\n",
       "      <td>3</td>\n",
       "      <td>5</td>\n",
       "      <td>7</td>\n",
       "      <td>0</td>\n",
       "      <td>3.0</td>\n",
       "      <td>16.0</td>\n",
       "      <td>34.0</td>\n",
       "      <td>51.0</td>\n",
       "      <td>32.0</td>\n",
       "      <td>...</td>\n",
       "      <td>58.0</td>\n",
       "      <td>56.0</td>\n",
       "      <td>30.0</td>\n",
       "      <td>30.0</td>\n",
       "      <td>41.0</td>\n",
       "      <td>19.0</td>\n",
       "      <td>39.0</td>\n",
       "      <td>39.0</td>\n",
       "      <td>12.0</td>\n",
       "      <td>54.19</td>\n",
       "    </tr>\n",
       "    <tr>\n",
       "      <th>2018-03-05 08:00:00</th>\n",
       "      <td>31</td>\n",
       "      <td>3</td>\n",
       "      <td>5</td>\n",
       "      <td>8</td>\n",
       "      <td>0</td>\n",
       "      <td>14.0</td>\n",
       "      <td>3.0</td>\n",
       "      <td>16.0</td>\n",
       "      <td>34.0</td>\n",
       "      <td>51.0</td>\n",
       "      <td>...</td>\n",
       "      <td>64.0</td>\n",
       "      <td>58.0</td>\n",
       "      <td>56.0</td>\n",
       "      <td>30.0</td>\n",
       "      <td>30.0</td>\n",
       "      <td>41.0</td>\n",
       "      <td>19.0</td>\n",
       "      <td>39.0</td>\n",
       "      <td>39.0</td>\n",
       "      <td>53.67</td>\n",
       "    </tr>\n",
       "  </tbody>\n",
       "</table>\n",
       "<p>5 rows × 30 columns</p>\n",
       "</div>"
      ],
      "text/plain": [
       "                     num_orders  month  day  hour  dayofweek  lag_1  lag_2  \\\n",
       "datetime                                                                     \n",
       "2018-03-05 04:00:00          34      3    5     4          0   51.0   32.0   \n",
       "2018-03-05 05:00:00          16      3    5     5          0   34.0   51.0   \n",
       "2018-03-05 06:00:00           3      3    5     6          0   16.0   34.0   \n",
       "2018-03-05 07:00:00          14      3    5     7          0    3.0   16.0   \n",
       "2018-03-05 08:00:00          31      3    5     8          0   14.0    3.0   \n",
       "\n",
       "                     lag_3  lag_4  lag_5  ...  lag_16  lag_17  lag_18  lag_19  \\\n",
       "datetime                                  ...                                   \n",
       "2018-03-05 04:00:00  176.0   86.0   68.0  ...    30.0    41.0    19.0    39.0   \n",
       "2018-03-05 05:00:00   32.0  176.0   86.0  ...    30.0    30.0    41.0    19.0   \n",
       "2018-03-05 06:00:00   51.0   32.0  176.0  ...    56.0    30.0    30.0    41.0   \n",
       "2018-03-05 07:00:00   34.0   51.0   32.0  ...    58.0    56.0    30.0    30.0   \n",
       "2018-03-05 08:00:00   16.0   34.0   51.0  ...    64.0    58.0    56.0    30.0   \n",
       "\n",
       "                     lag_20  lag_21  lag_22  lag_23  lag_24  rolling_mean  \n",
       "datetime                                                                   \n",
       "2018-03-05 04:00:00    39.0    12.0    11.0    22.0    27.0         56.46  \n",
       "2018-03-05 05:00:00    39.0    39.0    12.0    11.0    22.0         55.56  \n",
       "2018-03-05 06:00:00    19.0    39.0    39.0    12.0    11.0         54.87  \n",
       "2018-03-05 07:00:00    41.0    19.0    39.0    39.0    12.0         54.19  \n",
       "2018-03-05 08:00:00    30.0    41.0    19.0    39.0    39.0         53.67  \n",
       "\n",
       "[5 rows x 30 columns]"
      ]
     },
     "execution_count": 16,
     "metadata": {},
     "output_type": "execute_result"
    }
   ],
   "source": [
    "data.head()"
   ]
  },
  {
   "cell_type": "markdown",
   "metadata": {},
   "source": [
    "**ВЫВОД**\n",
    "Проведен анализ данных. Методом декомпозиции были выделены следующие аспекты:\n",
    "\n",
    "- Графики показывают высокую частотность и суточную сезонность, уменьшили интервал и посмотрели за неделю\n",
    "- За неделю явно видна суточная сезонность. Ночью количество заказов стремится к нулю, в то время как вечерний час пик - момент самого сильного спроса на услуги такси.\n",
    "\n",
    "Написана функция для подготовки признаков для будущего обучения модели, где выделены календарные признаки:\n",
    "* год\n",
    "* месяц\n",
    "* день\n",
    "* день недели\n",
    "* час(так как ресемплинг идет по часам)\n",
    "\n",
    "Также добавили и другие признаки:\n",
    "* отстающие значения и скользящее среднее\n",
    "* со смещением,чтобы не было подсматривания данных\n"
   ]
  },
  {
   "cell_type": "markdown",
   "metadata": {},
   "source": [
    "## Обучение"
   ]
  },
  {
   "cell_type": "markdown",
   "metadata": {},
   "source": [
    "Поделим данные на фичи и таргеты:"
   ]
  },
  {
   "cell_type": "code",
   "execution_count": 17,
   "metadata": {},
   "outputs": [],
   "source": [
    "train, test = train_test_split(data, shuffle=False, test_size=0.1)\n",
    "\n",
    "features_train = train.drop(['num_orders'], axis=1)\n",
    "target_train = train['num_orders']\n",
    "features_test = test.drop(['num_orders'], axis=1)\n",
    "target_test = test['num_orders']"
   ]
  },
  {
   "cell_type": "code",
   "execution_count": 18,
   "metadata": {
    "scrolled": true
   },
   "outputs": [
    {
     "name": "stdout",
     "output_type": "stream",
     "text": [
      "(3884, 29)\n",
      "(432, 29)\n",
      "(3884,)\n",
      "(432,)\n"
     ]
    }
   ],
   "source": [
    "print(features_train.shape)\n",
    "print(features_test.shape)\n",
    "print(target_train.shape)\n",
    "print(target_test.shape)"
   ]
  },
  {
   "cell_type": "markdown",
   "metadata": {},
   "source": [
    "Пропишу функцию для расчета метрики RMSE:"
   ]
  },
  {
   "cell_type": "code",
   "execution_count": 19,
   "metadata": {},
   "outputs": [],
   "source": [
    "def RMSE(target, predict):\n",
    "    return (mean_squared_error(target, predict))**0.5\n",
    "   \n",
    "#С помощию функции make_scorer создаю метрику RMSE\n",
    "RMSE_score = make_scorer(RMSE, greater_is_better=False)"
   ]
  },
  {
   "cell_type": "markdown",
   "metadata": {},
   "source": [
    "### Линейная регрессия"
   ]
  },
  {
   "cell_type": "markdown",
   "metadata": {},
   "source": [
    "В связи с тем, что мы работаем с временным рядом, нельзя применять кросс-валидацию в привычном виде для подбора гиперпараметров моделей с помощью GridSearchCV. Поэтому применим функцию TimeSeriesSplit()."
   ]
  },
  {
   "cell_type": "code",
   "execution_count": 20,
   "metadata": {},
   "outputs": [
    {
     "name": "stdout",
     "output_type": "stream",
     "text": [
      "Среднее качество модели линейной регрессии на кросс-валидации: 28.20064200976903\n",
      "CPU times: user 115 ms, sys: 221 ms, total: 336 ms\n",
      "Wall time: 333 ms\n"
     ]
    }
   ],
   "source": [
    "%%time\n",
    "my_cv = TimeSeriesSplit(n_splits=3).split(features_train)\n",
    "#Объявляю модель\n",
    "regression = LinearRegression(copy_X=True, fit_intercept=True, n_jobs=None, normalize=True)\n",
    "#Обучаю модель\n",
    "regression.fit(features_train, target_train)\n",
    "#Определяю RMSE модели с помощью кросс-валидации\n",
    "regression_cv_score = pd.Series(cross_val_score(regression,features_train,target_train,scoring=RMSE_score,cv=my_cv)).mean()*(-1)\n",
    "print('Среднее качество модели линейной регрессии на кросс-валидации:', regression_cv_score)"
   ]
  },
  {
   "cell_type": "markdown",
   "metadata": {},
   "source": [
    "### RandomForestRegressor"
   ]
  },
  {
   "cell_type": "code",
   "execution_count": 21,
   "metadata": {},
   "outputs": [
    {
     "name": "stdout",
     "output_type": "stream",
     "text": [
      "CPU times: user 11min, sys: 1.53 s, total: 11min 1s\n",
      "Wall time: 11min 2s\n"
     ]
    },
    {
     "data": {
      "text/plain": [
       "GridSearchCV(cv=<generator object TimeSeriesSplit.split at 0x7f483f2512e0>,\n",
       "             estimator=RandomForestRegressor(random_state=42),\n",
       "             param_grid={'max_depth': range(1, 30, 2),\n",
       "                         'min_samples_leaf': range(1, 5),\n",
       "                         'min_samples_split': range(2, 8, 2),\n",
       "                         'n_estimators': range(5, 30, 5)},\n",
       "             scoring=make_scorer(RMSE, greater_is_better=False))"
      ]
     },
     "execution_count": 21,
     "metadata": {},
     "output_type": "execute_result"
    }
   ],
   "source": [
    "%%time\n",
    "\n",
    "my_cv = TimeSeriesSplit(n_splits=3).split(features_train)\n",
    "#Объявляю модель\n",
    "forest = RandomForestRegressor(random_state=42)\n",
    "#Определяю словарь с набором параметров\n",
    "forest_parametrs = { 'n_estimators': range(5, 30, 5),\n",
    "                     'max_depth': range(1, 30, 2),\n",
    "                     'min_samples_leaf': range(1,5),\n",
    "                     'min_samples_split': range(2,8,2) }\n",
    "\n",
    "#Применяю GridSearchCV с кросс-валидацией\n",
    "forest_grid = GridSearchCV(forest, forest_parametrs, scoring=RMSE_score, cv=my_cv)\n",
    "forest_grid.fit(features_train, target_train)"
   ]
  },
  {
   "cell_type": "code",
   "execution_count": 22,
   "metadata": {
    "scrolled": true
   },
   "outputs": [
    {
     "name": "stdout",
     "output_type": "stream",
     "text": [
      "{'max_depth': 19, 'min_samples_leaf': 1, 'min_samples_split': 6, 'n_estimators': 25}\n",
      "10.67909317043468\n",
      "_______________\n",
      "CPU times: user 21.8 ms, sys: 0 ns, total: 21.8 ms\n",
      "Wall time: 28 ms\n"
     ]
    }
   ],
   "source": [
    "%%time\n",
    "\n",
    "forest_params = forest_grid.best_params_\n",
    "forest_score = forest_grid.score(features_train, target_train) * (-1)\n",
    "print(forest_params)\n",
    "print(forest_score)\n",
    "print('_______________')"
   ]
  },
  {
   "cell_type": "markdown",
   "metadata": {},
   "source": [
    "### CatBoost"
   ]
  },
  {
   "cell_type": "code",
   "execution_count": 23,
   "metadata": {},
   "outputs": [
    {
     "name": "stdout",
     "output_type": "stream",
     "text": [
      "Learning rate set to 0.5\n",
      "0:\tlearn: 24.4532137\ttotal: 48.6ms\tremaining: 194ms\n",
      "4:\tlearn: 18.6867132\ttotal: 55.1ms\tremaining: 0us\n",
      "Learning rate set to 0.5\n",
      "0:\tlearn: 26.8103184\ttotal: 2.42ms\tremaining: 9.68ms\n",
      "4:\tlearn: 21.0403995\ttotal: 9.56ms\tremaining: 0us\n",
      "Learning rate set to 0.5\n",
      "0:\tlearn: 28.0594040\ttotal: 2.6ms\tremaining: 10.4ms\n",
      "4:\tlearn: 22.2291334\ttotal: 10.5ms\tremaining: 0us\n",
      "Learning rate set to 0.5\n",
      "0:\tlearn: 24.4532137\ttotal: 1.64ms\tremaining: 47.5ms\n",
      "29:\tlearn: 12.9324641\ttotal: 52ms\tremaining: 0us\n",
      "Learning rate set to 0.5\n",
      "0:\tlearn: 26.8103184\ttotal: 3.25ms\tremaining: 94.1ms\n",
      "29:\tlearn: 16.2574116\ttotal: 69.6ms\tremaining: 0us\n",
      "Learning rate set to 0.5\n",
      "0:\tlearn: 28.0594040\ttotal: 3ms\tremaining: 87.1ms\n",
      "29:\tlearn: 18.1898080\ttotal: 60.6ms\tremaining: 0us\n",
      "Learning rate set to 0.5\n",
      "0:\tlearn: 24.4532137\ttotal: 1.48ms\tremaining: 5.91ms\n",
      "4:\tlearn: 18.6867132\ttotal: 7.01ms\tremaining: 0us\n",
      "Learning rate set to 0.5\n",
      "0:\tlearn: 26.8103184\ttotal: 1.99ms\tremaining: 7.97ms\n",
      "4:\tlearn: 21.0403995\ttotal: 8.95ms\tremaining: 0us\n",
      "Learning rate set to 0.5\n",
      "0:\tlearn: 28.0594040\ttotal: 2.13ms\tremaining: 8.53ms\n",
      "4:\tlearn: 22.2291334\ttotal: 10ms\tremaining: 0us\n",
      "Learning rate set to 0.5\n",
      "0:\tlearn: 24.2872197\ttotal: 4.86ms\tremaining: 19.4ms\n",
      "4:\tlearn: 17.7713676\ttotal: 17.5ms\tremaining: 0us\n",
      "Learning rate set to 0.5\n",
      "0:\tlearn: 26.3560810\ttotal: 6.4ms\tremaining: 25.6ms\n",
      "4:\tlearn: 20.4328911\ttotal: 22.1ms\tremaining: 0us\n",
      "Learning rate set to 0.5\n",
      "0:\tlearn: 27.4316647\ttotal: 5.76ms\tremaining: 23.1ms\n",
      "4:\tlearn: 21.3470998\ttotal: 23ms\tremaining: 0us\n",
      "Learning rate set to 0.5\n",
      "0:\tlearn: 24.2872197\ttotal: 5.23ms\tremaining: 152ms\n",
      "29:\tlearn: 9.7329279\ttotal: 102ms\tremaining: 0us\n",
      "Learning rate set to 0.5\n",
      "0:\tlearn: 26.3560810\ttotal: 5.82ms\tremaining: 169ms\n",
      "29:\tlearn: 13.7583883\ttotal: 133ms\tremaining: 0us\n",
      "Learning rate set to 0.5\n",
      "0:\tlearn: 27.4316647\ttotal: 5.25ms\tremaining: 152ms\n",
      "29:\tlearn: 15.6769732\ttotal: 132ms\tremaining: 0us\n",
      "Learning rate set to 0.5\n",
      "0:\tlearn: 24.2872197\ttotal: 3.71ms\tremaining: 14.8ms\n",
      "4:\tlearn: 17.7713676\ttotal: 17.2ms\tremaining: 0us\n",
      "Learning rate set to 0.5\n",
      "0:\tlearn: 26.3560810\ttotal: 4.41ms\tremaining: 17.6ms\n",
      "4:\tlearn: 20.4328911\ttotal: 19.9ms\tremaining: 0us\n",
      "Learning rate set to 0.5\n",
      "0:\tlearn: 27.4316647\ttotal: 5.7ms\tremaining: 22.8ms\n",
      "4:\tlearn: 21.3470998\ttotal: 23.2ms\tremaining: 0us\n",
      "Learning rate set to 0.5\n",
      "0:\tlearn: 23.9264749\ttotal: 33.1ms\tremaining: 132ms\n",
      "4:\tlearn: 15.4880141\ttotal: 157ms\tremaining: 0us\n",
      "Learning rate set to 0.5\n",
      "0:\tlearn: 26.3543565\ttotal: 46.6ms\tremaining: 186ms\n",
      "4:\tlearn: 17.7130822\ttotal: 211ms\tremaining: 0us\n",
      "Learning rate set to 0.5\n",
      "0:\tlearn: 26.6692897\ttotal: 44.8ms\tremaining: 179ms\n",
      "4:\tlearn: 18.5735921\ttotal: 206ms\tremaining: 0us\n",
      "Learning rate set to 0.5\n",
      "0:\tlearn: 23.9264749\ttotal: 32.2ms\tremaining: 935ms\n",
      "29:\tlearn: 3.8143227\ttotal: 920ms\tremaining: 0us\n",
      "Learning rate set to 0.5\n",
      "0:\tlearn: 26.3543565\ttotal: 38.2ms\tremaining: 1.11s\n",
      "29:\tlearn: 7.8245753\ttotal: 1.12s\tremaining: 0us\n",
      "Learning rate set to 0.5\n",
      "0:\tlearn: 26.6692897\ttotal: 39.9ms\tremaining: 1.16s\n",
      "29:\tlearn: 10.0457152\ttotal: 1.2s\tremaining: 0us\n",
      "Learning rate set to 0.5\n",
      "0:\tlearn: 23.9264749\ttotal: 31.1ms\tremaining: 125ms\n",
      "4:\tlearn: 15.4880141\ttotal: 150ms\tremaining: 0us\n",
      "Learning rate set to 0.5\n",
      "0:\tlearn: 26.3543565\ttotal: 37.2ms\tremaining: 149ms\n",
      "4:\tlearn: 17.7130822\ttotal: 189ms\tremaining: 0us\n",
      "Learning rate set to 0.5\n",
      "0:\tlearn: 26.6692897\ttotal: 40.3ms\tremaining: 161ms\n",
      "4:\tlearn: 18.5735921\ttotal: 200ms\tremaining: 0us\n",
      "Learning rate set to 0.5\n",
      "0:\tlearn: 31.4226765\ttotal: 2.56ms\tremaining: 74.2ms\n",
      "29:\tlearn: 20.4837233\ttotal: 66.3ms\tremaining: 0us\n",
      "CPU times: user 5.63 s, sys: 96.2 ms, total: 5.73 s\n",
      "Wall time: 22.6 s\n"
     ]
    },
    {
     "data": {
      "text/plain": [
       "GridSearchCV(cv=<generator object TimeSeriesSplit.split at 0x7f483fa2e660>,\n",
       "             estimator=<catboost.core.CatBoostRegressor object at 0x7f483f8c7520>,\n",
       "             param_grid={'depth': [4, 6, 10], 'n_estimators': [5, 30, 5]},\n",
       "             scoring=make_scorer(RMSE, greater_is_better=False))"
      ]
     },
     "execution_count": 23,
     "metadata": {},
     "output_type": "execute_result"
    }
   ],
   "source": [
    "%%time\n",
    "\n",
    "my_cv = TimeSeriesSplit(n_splits=3).split(features_train)\n",
    "#Объявляю модель\n",
    "cb = cb.CatBoostRegressor()\n",
    "#Определяю словарь с набором параметров\n",
    "cb_parametrs = {'n_estimators': [5, 30, 5],\n",
    "                'depth': [4, 6, 10]\n",
    "               }\n",
    "\n",
    "#Применяю GridSearchCV с кросс-валидацией\n",
    "cb_grid = GridSearchCV(cb, cb_parametrs, scoring=RMSE_score, cv=my_cv)\n",
    "cb_grid.fit(features_train, target_train, verbose=100)"
   ]
  },
  {
   "cell_type": "code",
   "execution_count": 24,
   "metadata": {
    "scrolled": true
   },
   "outputs": [
    {
     "name": "stdout",
     "output_type": "stream",
     "text": [
      "{'depth': 4, 'n_estimators': 30}\n",
      "20.483723270499738\n",
      "_______________\n",
      "CPU times: user 0 ns, sys: 3.28 ms, total: 3.28 ms\n",
      "Wall time: 2.39 ms\n"
     ]
    }
   ],
   "source": [
    "%%time\n",
    "\n",
    "cb_params = cb_grid.best_params_\n",
    "cb_score = cb_grid.score(features_train, target_train) * (-1)\n",
    "print(cb_params)\n",
    "print(cb_score)\n",
    "print('_______________')"
   ]
  },
  {
   "cell_type": "markdown",
   "metadata": {},
   "source": [
    "**ВЫВОД:**\n",
    "\n",
    "- Среднее качество модели линейной регрессии на кросс-валидации: 28.20\n",
    "\n",
    "- RandomForestRegressor RMSE: 10.67\n",
    "\n",
    "- CatBoost RMSE: 20.48\n",
    "\n",
    "Таким образом, лучшая модель RandomForestRegressor. Проведм тестирование"
   ]
  },
  {
   "cell_type": "markdown",
   "metadata": {},
   "source": [
    "## Тестирование"
   ]
  },
  {
   "cell_type": "code",
   "execution_count": 25,
   "metadata": {
    "scrolled": true
   },
   "outputs": [
    {
     "name": "stdout",
     "output_type": "stream",
     "text": [
      "RMSE модели Случайного леса: 44.695\n",
      "CPU times: user 1.12 s, sys: 16 µs, total: 1.12 s\n",
      "Wall time: 1.12 s\n"
     ]
    }
   ],
   "source": [
    "%%time\n",
    "#Обучаю модель на оптимальных гиперпараметрах\n",
    "forest_model = RandomForestRegressor(random_state=42,\n",
    "                                     max_depth=19,\n",
    "                                     min_samples_leaf = 1,\n",
    "                                     min_samples_split = 6,\n",
    "                                     n_estimators = 25)\n",
    "\n",
    "forest_model.fit(features_train, target_train)\n",
    "forest_model_predictions = forest_model.predict(features_test)\n",
    "\n",
    "#Определяю метрику RMSE\n",
    "forest_RMSE = round(RMSE(target_test, forest_model_predictions), 3)\n",
    "print('RMSE модели Случайного леса:', forest_RMSE)"
   ]
  },
  {
   "cell_type": "code",
   "execution_count": 26,
   "metadata": {},
   "outputs": [
    {
     "data": {
      "image/png": "[encoded data removed]",
      "text/plain": [
       "<Figure size 1296x432 with 1 Axes>"
      ]
     },
     "metadata": {
      "needs_background": "light"
     },
     "output_type": "display_data"
    }
   ],
   "source": [
    "plt.figure(figsize=(18, 6))\n",
    "plt.scatter(y=target_test, x=target_test.index, label='Real data')\n",
    "plt.scatter(y=forest_model_predictions, x=target_test.index, label='Predictions')\n",
    "plt.legend(loc='upper right')\n",
    "plt.show()"
   ]
  },
  {
   "cell_type": "markdown",
   "metadata": {},
   "source": [
    "**ВЫВОД**:\n",
    "\n",
    "Значение метрики RMSE модели Случайного леса на тестовой выборке: 44.695"
   ]
  },
  {
   "cell_type": "markdown",
   "metadata": {},
   "source": [
    "**ОБЩИЙ ВЫВОД:**\n",
    "\n",
    "При выполнении проекта проделана следующая работа:\n",
    "\n",
    "- На первом этапе произведена загрузка данных и их подготовка для обучения моделей.\n",
    "\n",
    "\n",
    "- Проведен анализ данных. Методом декомпозиции были выделены следующие аспекты:\n",
    "- Графики показывают высокую частотность и суточную сезонность, уменьшили интервал и посмотрели за неделю\n",
    "- За неделю явно видна суточная сезонность. Ночью количество заказов стремится к нулю, в то время как вечерний час пик - момент самого сильного спроса на услуги такси.\n",
    "\n",
    "* На следующем этапе к датасету были добавлены дополнительные признаки, а именно \n",
    "год, месяц, день, день недели, час(так как ресемплинг идет по часам), \"отстающие значения\" и скользящее среднее. \n",
    "\n",
    "* На дополнном датасете подобраны оптимальные гиперпараметры для моделей: \n",
    "\n",
    "- Среднее качество модели линейной регрессии на кросс-валидации: 28.20\n",
    "\n",
    "- RandomForestRegressor RMSE: 10.67\n",
    "\n",
    "- CatBoost RMSE: 20.48\n",
    "\n",
    "Таким образом, лучшая модель RandomForestRegressor. \n",
    "\n",
    "* На заключительном этапе проведено тестирование модели  RandomForestRegressor. Значение метрики RMSE модели Случайного леса на тестовой выборке: 44.695\n",
    "\n",
    "Требование о значении метрики RMSE (не более 48) выполнено.\n"
   ]
  }
 ],
 "metadata": {
  "ExecuteTimeLog": [
   {
    "duration": 2055,
    "start_time": "2023-04-09T12:14:09.773Z"
   },
   {
    "duration": 116,
    "start_time": "2023-04-09T12:14:42.506Z"
   },
   {
    "duration": 19,
    "start_time": "2023-04-09T12:15:34.384Z"
   },
   {
    "duration": 371,
    "start_time": "2023-04-09T12:16:32.769Z"
   },
   {
    "duration": 13,
    "start_time": "2023-04-09T12:20:26.009Z"
   },
   {
    "duration": 307,
    "start_time": "2023-04-09T13:01:40.738Z"
   },
   {
    "duration": 848,
    "start_time": "2023-04-09T13:02:55.555Z"
   },
   {
    "duration": 3,
    "start_time": "2023-04-09T13:10:33.442Z"
   },
   {
    "duration": 1621,
    "start_time": "2023-04-09T13:17:27.860Z"
   },
   {
    "duration": 49,
    "start_time": "2023-04-09T13:17:29.484Z"
   },
   {
    "duration": 21,
    "start_time": "2023-04-09T13:17:29.535Z"
   },
   {
    "duration": 383,
    "start_time": "2023-04-09T13:17:29.558Z"
   },
   {
    "duration": 14,
    "start_time": "2023-04-09T13:17:29.943Z"
   },
   {
    "duration": 860,
    "start_time": "2023-04-09T13:17:29.959Z"
   },
   {
    "duration": 695,
    "start_time": "2023-04-09T13:18:49.489Z"
   },
   {
    "duration": 712,
    "start_time": "2023-04-09T13:19:35.004Z"
   },
   {
    "duration": 90,
    "start_time": "2023-04-09T13:22:20.171Z"
   },
   {
    "duration": 312,
    "start_time": "2023-04-09T13:22:40.249Z"
   },
   {
    "duration": 3,
    "start_time": "2023-04-09T13:41:50.996Z"
   },
   {
    "duration": 4,
    "start_time": "2023-04-09T13:42:50.431Z"
   },
   {
    "duration": 49,
    "start_time": "2023-04-09T13:43:15.074Z"
   },
   {
    "duration": 34,
    "start_time": "2023-04-09T13:43:28.384Z"
   },
   {
    "duration": 12,
    "start_time": "2023-04-09T13:43:54.190Z"
   },
   {
    "duration": 5,
    "start_time": "2023-04-09T13:44:14.610Z"
   },
   {
    "duration": 30,
    "start_time": "2023-04-09T13:44:28.650Z"
   },
   {
    "duration": 4,
    "start_time": "2023-04-09T14:02:46.722Z"
   },
   {
    "duration": 1561,
    "start_time": "2023-04-09T14:02:53.449Z"
   },
   {
    "duration": 46,
    "start_time": "2023-04-09T14:02:55.012Z"
   },
   {
    "duration": 19,
    "start_time": "2023-04-09T14:02:55.060Z"
   },
   {
    "duration": 379,
    "start_time": "2023-04-09T14:02:55.081Z"
   },
   {
    "duration": 13,
    "start_time": "2023-04-09T14:02:55.463Z"
   },
   {
    "duration": 278,
    "start_time": "2023-04-09T14:02:55.490Z"
   },
   {
    "duration": 829,
    "start_time": "2023-04-09T14:02:55.770Z"
   },
   {
    "duration": 706,
    "start_time": "2023-04-09T14:02:56.601Z"
   },
   {
    "duration": 4,
    "start_time": "2023-04-09T14:02:57.309Z"
   },
   {
    "duration": 16,
    "start_time": "2023-04-09T14:02:57.314Z"
   },
   {
    "duration": 61,
    "start_time": "2023-04-09T14:02:57.332Z"
   },
   {
    "duration": 23,
    "start_time": "2023-04-09T14:02:57.403Z"
   },
   {
    "duration": 18,
    "start_time": "2023-04-09T14:02:57.427Z"
   },
   {
    "duration": 13,
    "start_time": "2023-04-09T14:02:57.448Z"
   },
   {
    "duration": 45,
    "start_time": "2023-04-09T14:02:57.463Z"
   },
   {
    "duration": 1568,
    "start_time": "2023-04-09T14:06:00.940Z"
   },
   {
    "duration": 47,
    "start_time": "2023-04-09T14:06:02.510Z"
   },
   {
    "duration": 19,
    "start_time": "2023-04-09T14:06:02.559Z"
   },
   {
    "duration": 355,
    "start_time": "2023-04-09T14:06:02.580Z"
   },
   {
    "duration": 12,
    "start_time": "2023-04-09T14:06:02.938Z"
   },
   {
    "duration": 269,
    "start_time": "2023-04-09T14:06:02.952Z"
   },
   {
    "duration": 764,
    "start_time": "2023-04-09T14:06:03.223Z"
   },
   {
    "duration": 680,
    "start_time": "2023-04-09T14:06:03.989Z"
   },
   {
    "duration": 4,
    "start_time": "2023-04-09T14:06:04.670Z"
   },
   {
    "duration": 21,
    "start_time": "2023-04-09T14:06:04.688Z"
   },
   {
    "duration": 36,
    "start_time": "2023-04-09T14:06:04.711Z"
   },
   {
    "duration": 22,
    "start_time": "2023-04-09T14:06:04.748Z"
   },
   {
    "duration": 20,
    "start_time": "2023-04-09T14:06:04.771Z"
   },
   {
    "duration": 18,
    "start_time": "2023-04-09T14:06:04.794Z"
   },
   {
    "duration": 41,
    "start_time": "2023-04-09T14:06:04.814Z"
   },
   {
    "duration": 11,
    "start_time": "2023-04-09T14:09:22.942Z"
   },
   {
    "duration": 4,
    "start_time": "2023-04-09T14:09:49.451Z"
   },
   {
    "duration": 4,
    "start_time": "2023-04-09T14:11:26.573Z"
   },
   {
    "duration": 1626,
    "start_time": "2023-04-09T14:18:53.872Z"
   },
   {
    "duration": 47,
    "start_time": "2023-04-09T14:18:55.501Z"
   },
   {
    "duration": 20,
    "start_time": "2023-04-09T14:18:55.550Z"
   },
   {
    "duration": 399,
    "start_time": "2023-04-09T14:18:55.573Z"
   },
   {
    "duration": 22,
    "start_time": "2023-04-09T14:18:55.974Z"
   },
   {
    "duration": 273,
    "start_time": "2023-04-09T14:18:55.998Z"
   },
   {
    "duration": 822,
    "start_time": "2023-04-09T14:18:56.273Z"
   },
   {
    "duration": 704,
    "start_time": "2023-04-09T14:18:57.097Z"
   },
   {
    "duration": 3,
    "start_time": "2023-04-09T14:18:57.803Z"
   },
   {
    "duration": 13,
    "start_time": "2023-04-09T14:18:57.808Z"
   },
   {
    "duration": 39,
    "start_time": "2023-04-09T14:18:57.822Z"
   },
   {
    "duration": 48,
    "start_time": "2023-04-09T14:18:57.863Z"
   },
   {
    "duration": 11,
    "start_time": "2023-04-09T14:18:57.914Z"
   },
   {
    "duration": 13,
    "start_time": "2023-04-09T14:18:57.927Z"
   },
   {
    "duration": 47,
    "start_time": "2023-04-09T14:18:57.942Z"
   },
   {
    "duration": 20,
    "start_time": "2023-04-09T14:18:57.991Z"
   },
   {
    "duration": 19,
    "start_time": "2023-04-09T14:18:58.013Z"
   },
   {
    "duration": 15,
    "start_time": "2023-04-09T14:18:58.034Z"
   },
   {
    "duration": 1580,
    "start_time": "2023-04-09T14:21:11.811Z"
   },
   {
    "duration": 46,
    "start_time": "2023-04-09T14:21:13.392Z"
   },
   {
    "duration": 21,
    "start_time": "2023-04-09T14:21:13.440Z"
   },
   {
    "duration": 354,
    "start_time": "2023-04-09T14:21:13.464Z"
   },
   {
    "duration": 14,
    "start_time": "2023-04-09T14:21:13.820Z"
   },
   {
    "duration": 260,
    "start_time": "2023-04-09T14:21:13.835Z"
   },
   {
    "duration": 730,
    "start_time": "2023-04-09T14:21:14.096Z"
   },
   {
    "duration": 646,
    "start_time": "2023-04-09T14:21:14.828Z"
   },
   {
    "duration": 3,
    "start_time": "2023-04-09T14:21:15.475Z"
   },
   {
    "duration": 4,
    "start_time": "2023-04-09T14:21:15.489Z"
   },
   {
    "duration": 28,
    "start_time": "2023-04-09T14:21:15.495Z"
   },
   {
    "duration": 21,
    "start_time": "2023-04-09T14:21:15.524Z"
   },
   {
    "duration": 40,
    "start_time": "2023-04-09T14:21:15.547Z"
   },
   {
    "duration": 4,
    "start_time": "2023-04-09T14:21:15.589Z"
   },
   {
    "duration": 24,
    "start_time": "2023-04-09T14:21:15.595Z"
   },
   {
    "duration": 10,
    "start_time": "2023-04-09T14:21:15.621Z"
   },
   {
    "duration": 12,
    "start_time": "2023-04-09T14:21:15.633Z"
   },
   {
    "duration": 7,
    "start_time": "2023-04-09T14:21:15.647Z"
   },
   {
    "duration": 540,
    "start_time": "2023-04-09T14:21:15.656Z"
   },
   {
    "duration": 264895,
    "start_time": "2023-04-09T14:23:19.217Z"
   },
   {
    "duration": 26,
    "start_time": "2023-04-09T14:29:53.466Z"
   },
   {
    "duration": 356008,
    "start_time": "2023-04-09T14:31:16.031Z"
   },
   {
    "duration": 14,
    "start_time": "2023-04-09T14:37:12.043Z"
   },
   {
    "duration": 1038,
    "start_time": "2023-04-09T14:52:19.660Z"
   },
   {
    "duration": 6,
    "start_time": "2023-04-09T14:53:58.018Z"
   },
   {
    "duration": 161,
    "start_time": "2023-04-09T14:54:20.254Z"
   },
   {
    "duration": 12,
    "start_time": "2023-04-09T15:00:01.864Z"
   },
   {
    "duration": 501,
    "start_time": "2023-04-09T15:01:13.031Z"
   },
   {
    "duration": 1978,
    "start_time": "2023-04-09T15:11:32.445Z"
   },
   {
    "duration": 55,
    "start_time": "2023-04-09T15:11:34.429Z"
   },
   {
    "duration": 46,
    "start_time": "2023-04-09T15:11:34.486Z"
   },
   {
    "duration": 443,
    "start_time": "2023-04-09T15:11:34.536Z"
   },
   {
    "duration": 16,
    "start_time": "2023-04-09T15:11:34.989Z"
   },
   {
    "duration": 445,
    "start_time": "2023-04-09T15:11:35.009Z"
   },
   {
    "duration": 847,
    "start_time": "2023-04-09T15:11:35.456Z"
   },
   {
    "duration": 786,
    "start_time": "2023-04-09T15:11:36.310Z"
   },
   {
    "duration": 5,
    "start_time": "2023-04-09T15:11:37.100Z"
   },
   {
    "duration": 36,
    "start_time": "2023-04-09T15:11:37.107Z"
   },
   {
    "duration": 32,
    "start_time": "2023-04-09T15:11:37.145Z"
   },
   {
    "duration": 49,
    "start_time": "2023-04-09T15:11:37.179Z"
   },
   {
    "duration": 14,
    "start_time": "2023-04-09T15:11:37.230Z"
   },
   {
    "duration": 9,
    "start_time": "2023-04-09T15:11:37.248Z"
   },
   {
    "duration": 48,
    "start_time": "2023-04-09T15:11:37.258Z"
   },
   {
    "duration": 27,
    "start_time": "2023-04-09T15:11:37.309Z"
   },
   {
    "duration": 26,
    "start_time": "2023-04-09T15:11:37.344Z"
   },
   {
    "duration": 7,
    "start_time": "2023-04-09T15:11:37.372Z"
   },
   {
    "duration": 738,
    "start_time": "2023-04-09T15:11:37.382Z"
   },
   {
    "duration": 290526,
    "start_time": "2023-04-09T15:11:38.137Z"
   },
   {
    "duration": 33,
    "start_time": "2023-04-09T15:16:28.664Z"
   },
   {
    "duration": 399478,
    "start_time": "2023-04-09T15:16:28.699Z"
   },
   {
    "duration": 23,
    "start_time": "2023-04-09T15:23:08.179Z"
   },
   {
    "duration": 1010,
    "start_time": "2023-04-09T15:23:08.211Z"
   },
   {
    "duration": 431,
    "start_time": "2023-04-09T15:23:09.223Z"
   },
   {
    "duration": 1732,
    "start_time": "2023-04-09T15:27:45.786Z"
   },
   {
    "duration": 65,
    "start_time": "2023-04-09T15:27:47.520Z"
   },
   {
    "duration": 28,
    "start_time": "2023-04-09T15:27:47.592Z"
   },
   {
    "duration": 402,
    "start_time": "2023-04-09T15:27:47.623Z"
   },
   {
    "duration": 14,
    "start_time": "2023-04-09T15:27:48.027Z"
   },
   {
    "duration": 317,
    "start_time": "2023-04-09T15:27:48.044Z"
   },
   {
    "duration": 939,
    "start_time": "2023-04-09T15:27:48.363Z"
   },
   {
    "duration": 748,
    "start_time": "2023-04-09T15:27:49.310Z"
   },
   {
    "duration": 4,
    "start_time": "2023-04-09T15:27:50.060Z"
   },
   {
    "duration": 24,
    "start_time": "2023-04-09T15:27:50.069Z"
   },
   {
    "duration": 46,
    "start_time": "2023-04-09T15:27:50.101Z"
   },
   {
    "duration": 27,
    "start_time": "2023-04-09T15:27:50.149Z"
   },
   {
    "duration": 23,
    "start_time": "2023-04-09T15:27:50.178Z"
   },
   {
    "duration": 8,
    "start_time": "2023-04-09T15:27:50.212Z"
   },
   {
    "duration": 38,
    "start_time": "2023-04-09T15:27:50.222Z"
   },
   {
    "duration": 9,
    "start_time": "2023-04-09T15:27:50.263Z"
   },
   {
    "duration": 4,
    "start_time": "2023-04-09T15:27:50.291Z"
   },
   {
    "duration": 23,
    "start_time": "2023-04-09T15:27:50.300Z"
   },
   {
    "duration": 688,
    "start_time": "2023-04-09T15:27:50.326Z"
   },
   {
    "duration": 280813,
    "start_time": "2023-04-09T15:27:51.017Z"
   },
   {
    "duration": 26,
    "start_time": "2023-04-09T15:32:31.832Z"
   },
   {
    "duration": 140502,
    "start_time": "2023-04-09T15:32:31.860Z"
   },
   {
    "duration": 88,
    "start_time": "2023-04-09T15:34:52.364Z"
   },
   {
    "duration": 979,
    "start_time": "2023-04-09T15:34:52.454Z"
   },
   {
    "duration": 439,
    "start_time": "2023-04-09T15:34:53.435Z"
   },
   {
    "duration": 1787,
    "start_time": "2023-04-09T15:35:28.474Z"
   },
   {
    "duration": 54,
    "start_time": "2023-04-09T15:35:30.263Z"
   },
   {
    "duration": 21,
    "start_time": "2023-04-09T15:35:30.319Z"
   },
   {
    "duration": 512,
    "start_time": "2023-04-09T15:35:30.342Z"
   },
   {
    "duration": 14,
    "start_time": "2023-04-09T15:35:30.856Z"
   },
   {
    "duration": 432,
    "start_time": "2023-04-09T15:35:30.872Z"
   },
   {
    "duration": 757,
    "start_time": "2023-04-09T15:35:31.306Z"
   },
   {
    "duration": 790,
    "start_time": "2023-04-09T15:35:32.065Z"
   },
   {
    "duration": 4,
    "start_time": "2023-04-09T15:35:32.857Z"
   },
   {
    "duration": 23,
    "start_time": "2023-04-09T15:35:32.866Z"
   },
   {
    "duration": 63,
    "start_time": "2023-04-09T15:35:32.894Z"
   },
   {
    "duration": 49,
    "start_time": "2023-04-09T15:35:32.959Z"
   },
   {
    "duration": 14,
    "start_time": "2023-04-09T15:35:33.010Z"
   },
   {
    "duration": 5,
    "start_time": "2023-04-09T15:35:33.027Z"
   },
   {
    "duration": 27,
    "start_time": "2023-04-09T15:35:33.035Z"
   },
   {
    "duration": 26,
    "start_time": "2023-04-09T15:35:33.064Z"
   },
   {
    "duration": 29,
    "start_time": "2023-04-09T15:35:33.095Z"
   },
   {
    "duration": 9,
    "start_time": "2023-04-09T15:35:33.127Z"
   },
   {
    "duration": 749,
    "start_time": "2023-04-09T15:35:33.137Z"
   },
   {
    "duration": 283379,
    "start_time": "2023-04-09T15:35:33.896Z"
   },
   {
    "duration": 34,
    "start_time": "2023-04-09T15:40:17.278Z"
   },
   {
    "duration": 387125,
    "start_time": "2023-04-09T15:40:17.314Z"
   },
   {
    "duration": 19,
    "start_time": "2023-04-09T15:46:44.441Z"
   },
   {
    "duration": 1213,
    "start_time": "2023-04-09T15:46:44.465Z"
   },
   {
    "duration": 434,
    "start_time": "2023-04-09T15:46:45.680Z"
   },
   {
    "duration": 2264,
    "start_time": "2023-04-09T16:04:36.984Z"
   },
   {
    "duration": 158,
    "start_time": "2023-04-09T16:04:39.250Z"
   },
   {
    "duration": 23,
    "start_time": "2023-04-09T16:04:39.410Z"
   },
   {
    "duration": 400,
    "start_time": "2023-04-09T16:04:39.435Z"
   },
   {
    "duration": 15,
    "start_time": "2023-04-09T16:04:39.839Z"
   },
   {
    "duration": 329,
    "start_time": "2023-04-09T16:04:39.856Z"
   },
   {
    "duration": 906,
    "start_time": "2023-04-09T16:04:40.199Z"
   },
   {
    "duration": 764,
    "start_time": "2023-04-09T16:04:41.107Z"
   },
   {
    "duration": 19,
    "start_time": "2023-04-09T16:04:41.873Z"
   },
   {
    "duration": 9,
    "start_time": "2023-04-09T16:04:41.894Z"
   },
   {
    "duration": 49,
    "start_time": "2023-04-09T16:04:41.907Z"
   },
   {
    "duration": 53,
    "start_time": "2023-04-09T16:04:41.958Z"
   },
   {
    "duration": 14,
    "start_time": "2023-04-09T16:04:42.013Z"
   },
   {
    "duration": 7,
    "start_time": "2023-04-09T16:04:42.032Z"
   },
   {
    "duration": 50,
    "start_time": "2023-04-09T16:04:42.041Z"
   },
   {
    "duration": 13,
    "start_time": "2023-04-09T16:04:42.095Z"
   },
   {
    "duration": 10,
    "start_time": "2023-04-09T16:04:42.111Z"
   },
   {
    "duration": 9,
    "start_time": "2023-04-09T16:04:42.123Z"
   },
   {
    "duration": 955,
    "start_time": "2023-04-09T16:04:42.134Z"
   },
   {
    "duration": 284071,
    "start_time": "2023-04-09T16:04:43.094Z"
   },
   {
    "duration": 34,
    "start_time": "2023-04-09T16:09:27.167Z"
   },
   {
    "duration": 392716,
    "start_time": "2023-04-09T16:09:27.209Z"
   },
   {
    "duration": 14,
    "start_time": "2023-04-09T16:15:59.927Z"
   },
   {
    "duration": 1476,
    "start_time": "2023-04-09T16:15:59.943Z"
   },
   {
    "duration": 472,
    "start_time": "2023-04-09T16:16:01.420Z"
   },
   {
    "duration": 312,
    "start_time": "2023-04-09T16:29:10.133Z"
   },
   {
    "duration": 280,
    "start_time": "2023-04-09T16:29:28.476Z"
   },
   {
    "duration": 281,
    "start_time": "2023-04-09T16:29:35.151Z"
   },
   {
    "duration": 368,
    "start_time": "2023-04-09T16:30:31.780Z"
   },
   {
    "duration": 180,
    "start_time": "2023-04-09T16:33:40.376Z"
   },
   {
    "duration": 233,
    "start_time": "2023-04-09T16:35:24.162Z"
   },
   {
    "duration": 9,
    "start_time": "2023-04-09T16:37:11.220Z"
   },
   {
    "duration": 55,
    "start_time": "2023-04-09T16:37:11.417Z"
   },
   {
    "duration": 23,
    "start_time": "2023-04-09T16:37:11.619Z"
   },
   {
    "duration": 304,
    "start_time": "2023-04-09T16:37:11.822Z"
   },
   {
    "duration": 19,
    "start_time": "2023-04-09T16:37:12.821Z"
   },
   {
    "duration": 297,
    "start_time": "2023-04-09T16:37:14.620Z"
   },
   {
    "duration": 757,
    "start_time": "2023-04-09T16:37:15.043Z"
   },
   {
    "duration": 743,
    "start_time": "2023-04-09T16:37:15.805Z"
   },
   {
    "duration": 182,
    "start_time": "2023-04-09T16:37:17.662Z"
   },
   {
    "duration": 1069,
    "start_time": "2023-04-09T16:41:23.782Z"
   },
   {
    "duration": 1807,
    "start_time": "2023-04-09T16:58:59.223Z"
   },
   {
    "duration": 50,
    "start_time": "2023-04-09T16:59:01.032Z"
   },
   {
    "duration": 38,
    "start_time": "2023-04-09T16:59:01.085Z"
   },
   {
    "duration": 467,
    "start_time": "2023-04-09T16:59:01.126Z"
   },
   {
    "duration": 19,
    "start_time": "2023-04-09T16:59:01.603Z"
   },
   {
    "duration": 314,
    "start_time": "2023-04-09T16:59:01.624Z"
   },
   {
    "duration": 801,
    "start_time": "2023-04-09T16:59:01.940Z"
   },
   {
    "duration": 811,
    "start_time": "2023-04-09T16:59:02.744Z"
   },
   {
    "duration": 802,
    "start_time": "2023-04-09T16:59:03.556Z"
   },
   {
    "duration": 3,
    "start_time": "2023-04-09T16:59:04.361Z"
   },
   {
    "duration": 13,
    "start_time": "2023-04-09T16:59:04.366Z"
   },
   {
    "duration": 75,
    "start_time": "2023-04-09T16:59:04.380Z"
   },
   {
    "duration": 43,
    "start_time": "2023-04-09T16:59:04.457Z"
   },
   {
    "duration": 29,
    "start_time": "2023-04-09T16:59:04.503Z"
   },
   {
    "duration": 25,
    "start_time": "2023-04-09T16:59:04.534Z"
   },
   {
    "duration": 51,
    "start_time": "2023-04-09T16:59:04.560Z"
   },
   {
    "duration": 26,
    "start_time": "2023-04-09T16:59:04.613Z"
   },
   {
    "duration": 18,
    "start_time": "2023-04-09T16:59:04.641Z"
   },
   {
    "duration": 36,
    "start_time": "2023-04-09T16:59:04.661Z"
   },
   {
    "duration": 691,
    "start_time": "2023-04-09T16:59:04.699Z"
   },
   {
    "duration": 832356,
    "start_time": "2023-04-09T16:59:05.394Z"
   },
   {
    "duration": 25,
    "start_time": "2023-04-09T17:12:57.752Z"
   },
   {
    "duration": 90,
    "start_time": "2023-04-09T17:12:57.779Z"
   },
   {
    "duration": 0,
    "start_time": "2023-04-09T17:12:57.871Z"
   },
   {
    "duration": 0,
    "start_time": "2023-04-09T17:12:57.872Z"
   },
   {
    "duration": 0,
    "start_time": "2023-04-09T17:12:57.873Z"
   },
   {
    "duration": 253,
    "start_time": "2023-04-09T18:24:51.115Z"
   },
   {
    "duration": 109,
    "start_time": "2023-04-09T18:25:38.049Z"
   },
   {
    "duration": 1630,
    "start_time": "2023-04-09T18:27:02.275Z"
   },
   {
    "duration": 51,
    "start_time": "2023-04-09T18:27:03.907Z"
   },
   {
    "duration": 20,
    "start_time": "2023-04-09T18:27:03.960Z"
   },
   {
    "duration": 350,
    "start_time": "2023-04-09T18:27:03.981Z"
   },
   {
    "duration": 14,
    "start_time": "2023-04-09T18:27:04.333Z"
   },
   {
    "duration": 320,
    "start_time": "2023-04-09T18:27:04.349Z"
   },
   {
    "duration": 813,
    "start_time": "2023-04-09T18:27:04.671Z"
   },
   {
    "duration": 729,
    "start_time": "2023-04-09T18:27:05.487Z"
   },
   {
    "duration": 815,
    "start_time": "2023-04-09T18:27:06.218Z"
   },
   {
    "duration": 3,
    "start_time": "2023-04-09T18:27:07.035Z"
   },
   {
    "duration": 15,
    "start_time": "2023-04-09T18:27:07.039Z"
   },
   {
    "duration": 39,
    "start_time": "2023-04-09T18:27:07.056Z"
   },
   {
    "duration": 26,
    "start_time": "2023-04-09T18:27:07.098Z"
   },
   {
    "duration": 40,
    "start_time": "2023-04-09T18:27:07.127Z"
   },
   {
    "duration": 8,
    "start_time": "2023-04-09T18:27:07.169Z"
   },
   {
    "duration": 41,
    "start_time": "2023-04-09T18:27:07.179Z"
   },
   {
    "duration": 10,
    "start_time": "2023-04-09T18:27:07.223Z"
   },
   {
    "duration": 8,
    "start_time": "2023-04-09T18:27:07.235Z"
   },
   {
    "duration": 10,
    "start_time": "2023-04-09T18:27:07.245Z"
   },
   {
    "duration": 541,
    "start_time": "2023-04-09T18:27:07.256Z"
   },
   {
    "duration": 850683,
    "start_time": "2023-04-09T18:27:07.817Z"
   },
   {
    "duration": 30,
    "start_time": "2023-04-09T18:41:18.506Z"
   },
   {
    "duration": 30346,
    "start_time": "2023-04-09T18:41:18.538Z"
   },
   {
    "duration": 17,
    "start_time": "2023-04-09T18:41:48.888Z"
   },
   {
    "duration": 1170,
    "start_time": "2023-04-09T18:41:48.907Z"
   },
   {
    "duration": 440,
    "start_time": "2023-04-09T18:41:50.079Z"
   },
   {
    "duration": 418,
    "start_time": "2023-04-09T18:42:22.227Z"
   },
   {
    "duration": 118,
    "start_time": "2023-04-09T18:53:57.146Z"
   },
   {
    "duration": 251,
    "start_time": "2023-04-09T19:02:57.303Z"
   },
   {
    "duration": 390,
    "start_time": "2023-04-09T19:11:46.573Z"
   },
   {
    "duration": 406,
    "start_time": "2023-04-09T19:15:53.402Z"
   },
   {
    "duration": 269,
    "start_time": "2023-04-09T19:16:23.843Z"
   },
   {
    "duration": 1757,
    "start_time": "2023-04-09T19:16:47.810Z"
   },
   {
    "duration": 62,
    "start_time": "2023-04-09T19:16:49.569Z"
   },
   {
    "duration": 30,
    "start_time": "2023-04-09T19:16:49.633Z"
   },
   {
    "duration": 465,
    "start_time": "2023-04-09T19:16:49.665Z"
   },
   {
    "duration": 20,
    "start_time": "2023-04-09T19:16:50.135Z"
   },
   {
    "duration": 355,
    "start_time": "2023-04-09T19:16:50.157Z"
   },
   {
    "duration": 955,
    "start_time": "2023-04-09T19:16:50.514Z"
   },
   {
    "duration": 792,
    "start_time": "2023-04-09T19:16:51.472Z"
   },
   {
    "duration": 911,
    "start_time": "2023-04-09T19:16:52.266Z"
   },
   {
    "duration": 9,
    "start_time": "2023-04-09T19:16:53.179Z"
   },
   {
    "duration": 27,
    "start_time": "2023-04-09T19:16:53.192Z"
   },
   {
    "duration": 41,
    "start_time": "2023-04-09T19:16:53.221Z"
   },
   {
    "duration": 31,
    "start_time": "2023-04-09T19:16:53.264Z"
   },
   {
    "duration": 12,
    "start_time": "2023-04-09T19:16:53.300Z"
   },
   {
    "duration": 10,
    "start_time": "2023-04-09T19:16:53.314Z"
   },
   {
    "duration": 28,
    "start_time": "2023-04-09T19:16:53.326Z"
   },
   {
    "duration": 39,
    "start_time": "2023-04-09T19:16:53.356Z"
   },
   {
    "duration": 21,
    "start_time": "2023-04-09T19:16:53.397Z"
   },
   {
    "duration": 7,
    "start_time": "2023-04-09T19:16:53.420Z"
   },
   {
    "duration": 765,
    "start_time": "2023-04-09T19:16:53.429Z"
   },
   {
    "duration": 11010,
    "start_time": "2023-04-09T19:16:54.197Z"
   },
   {
    "duration": 120,
    "start_time": "2023-04-09T19:17:05.210Z"
   },
   {
    "duration": 28957,
    "start_time": "2023-04-09T19:17:05.332Z"
   },
   {
    "duration": 16,
    "start_time": "2023-04-09T19:17:34.297Z"
   },
   {
    "duration": 1256,
    "start_time": "2023-04-09T19:17:34.315Z"
   },
   {
    "duration": 369,
    "start_time": "2023-04-09T19:17:35.576Z"
   },
   {
    "duration": 1699,
    "start_time": "2023-04-09T19:20:39.818Z"
   },
   {
    "duration": 49,
    "start_time": "2023-04-09T19:20:41.520Z"
   },
   {
    "duration": 22,
    "start_time": "2023-04-09T19:20:41.571Z"
   },
   {
    "duration": 360,
    "start_time": "2023-04-09T19:20:41.596Z"
   },
   {
    "duration": 16,
    "start_time": "2023-04-09T19:20:41.959Z"
   },
   {
    "duration": 275,
    "start_time": "2023-04-09T19:20:41.994Z"
   },
   {
    "duration": 820,
    "start_time": "2023-04-09T19:20:42.271Z"
   },
   {
    "duration": 720,
    "start_time": "2023-04-09T19:20:43.102Z"
   },
   {
    "duration": 813,
    "start_time": "2023-04-09T19:20:43.824Z"
   },
   {
    "duration": 3,
    "start_time": "2023-04-09T19:20:44.639Z"
   },
   {
    "duration": 7,
    "start_time": "2023-04-09T19:20:44.644Z"
   },
   {
    "duration": 56,
    "start_time": "2023-04-09T19:20:44.653Z"
   },
   {
    "duration": 29,
    "start_time": "2023-04-09T19:20:44.711Z"
   },
   {
    "duration": 9,
    "start_time": "2023-04-09T19:20:44.743Z"
   },
   {
    "duration": 37,
    "start_time": "2023-04-09T19:20:44.754Z"
   },
   {
    "duration": 37,
    "start_time": "2023-04-09T19:20:44.800Z"
   },
   {
    "duration": 8,
    "start_time": "2023-04-09T19:20:44.839Z"
   },
   {
    "duration": 9,
    "start_time": "2023-04-09T19:20:44.849Z"
   },
   {
    "duration": 6,
    "start_time": "2023-04-09T19:20:44.860Z"
   },
   {
    "duration": 824,
    "start_time": "2023-04-09T19:20:44.867Z"
   },
   {
    "duration": 845891,
    "start_time": "2023-04-09T19:20:45.696Z"
   },
   {
    "duration": 31,
    "start_time": "2023-04-09T19:34:51.592Z"
   },
   {
    "duration": 38342,
    "start_time": "2023-04-09T19:34:51.625Z"
   },
   {
    "duration": 7,
    "start_time": "2023-04-09T19:35:29.968Z"
   },
   {
    "duration": 1321,
    "start_time": "2023-04-09T19:35:29.977Z"
   },
   {
    "duration": 347,
    "start_time": "2023-04-09T19:35:31.311Z"
   },
   {
    "duration": 1402,
    "start_time": "2023-04-09T19:37:53.480Z"
   },
   {
    "duration": 270,
    "start_time": "2023-04-09T19:37:55.015Z"
   },
   {
    "duration": 1296,
    "start_time": "2023-04-09T19:39:25.143Z"
   },
   {
    "duration": 273,
    "start_time": "2023-04-09T19:39:26.442Z"
   },
   {
    "duration": 1914,
    "start_time": "2023-04-10T01:00:44.298Z"
   },
   {
    "duration": 121,
    "start_time": "2023-04-10T01:00:46.214Z"
   },
   {
    "duration": 19,
    "start_time": "2023-04-10T01:00:46.337Z"
   },
   {
    "duration": 306,
    "start_time": "2023-04-10T01:00:46.358Z"
   },
   {
    "duration": 12,
    "start_time": "2023-04-10T01:00:46.666Z"
   },
   {
    "duration": 225,
    "start_time": "2023-04-10T01:00:46.679Z"
   },
   {
    "duration": 690,
    "start_time": "2023-04-10T01:00:46.905Z"
   },
   {
    "duration": 601,
    "start_time": "2023-04-10T01:00:47.597Z"
   },
   {
    "duration": 656,
    "start_time": "2023-04-10T01:00:48.200Z"
   },
   {
    "duration": 3,
    "start_time": "2023-04-10T01:00:48.858Z"
   },
   {
    "duration": 10,
    "start_time": "2023-04-10T01:00:48.863Z"
   },
   {
    "duration": 24,
    "start_time": "2023-04-10T01:00:48.875Z"
   },
   {
    "duration": 114,
    "start_time": "2023-04-10T01:00:48.901Z"
   },
   {
    "duration": 20,
    "start_time": "2023-04-10T01:00:49.017Z"
   },
   {
    "duration": 3,
    "start_time": "2023-04-10T01:00:49.038Z"
   },
   {
    "duration": 24,
    "start_time": "2023-04-10T01:00:49.043Z"
   },
   {
    "duration": 9,
    "start_time": "2023-04-10T01:00:49.068Z"
   },
   {
    "duration": 10,
    "start_time": "2023-04-10T01:00:49.078Z"
   },
   {
    "duration": 6,
    "start_time": "2023-04-10T01:00:49.089Z"
   },
   {
    "duration": 340,
    "start_time": "2023-04-10T01:00:49.096Z"
   },
   {
    "duration": 662072,
    "start_time": "2023-04-10T01:00:49.438Z"
   },
   {
    "duration": 31,
    "start_time": "2023-04-10T01:11:51.512Z"
   },
   {
    "duration": 22577,
    "start_time": "2023-04-10T01:11:51.545Z"
   },
   {
    "duration": 6,
    "start_time": "2023-04-10T01:12:14.123Z"
   },
   {
    "duration": 1125,
    "start_time": "2023-04-10T01:12:14.130Z"
   },
   {
    "duration": 295,
    "start_time": "2023-04-10T01:12:15.256Z"
   }
  ],
  "kernelspec": {
   "display_name": "Python 3 (ipykernel)",
   "language": "python",
   "name": "python3"
  },
  "language_info": {
   "codemirror_mode": {
    "name": "ipython",
    "version": 3
   },
   "file_extension": ".py",
   "mimetype": "text/x-python",
   "name": "python",
   "nbconvert_exporter": "python",
   "pygments_lexer": "ipython3",
   "version": "3.9.13"
  },
  "toc": {
   "base_numbering": 1,
   "nav_menu": {},
   "number_sections": true,
   "sideBar": true,
   "skip_h1_title": true,
   "title_cell": "Содержание",
   "title_sidebar": "Contents",
   "toc_cell": true,
   "toc_position": {},
   "toc_section_display": true,
   "toc_window_display": true
  }
 },
 "nbformat": 4,
 "nbformat_minor": 2
}
